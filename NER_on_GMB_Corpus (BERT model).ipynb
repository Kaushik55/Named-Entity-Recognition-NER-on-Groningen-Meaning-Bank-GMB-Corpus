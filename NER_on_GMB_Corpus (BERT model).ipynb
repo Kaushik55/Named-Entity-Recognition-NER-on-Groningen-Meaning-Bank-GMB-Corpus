{
 "cells": [
  {
   "cell_type": "markdown",
   "metadata": {
    "colab_type": "text",
    "id": "zMjerEe_2Jas"
   },
   "source": [
    "# Named Entity Recognition (NER) on Groningen Meaning Bank (GMB) Corpus"
   ]
  },
  {
   "cell_type": "markdown",
   "metadata": {
    "colab_type": "text",
    "id": "DGELhAAf2Jau"
   },
   "source": [
    "# 1. Introduction\n",
    "\n",
    "NER is the task of identifying useful information (entities) in text and categorising them into categories like names of persons, organizations, locations, time, quantities, monetary values and percentage. Entity can be a word or sequence of words in a sentence. Named-entity recognition is also known as entity identification, entity chunking and entity/information extraction. With the application of NER, a high level overview of any document can be obtained. \n",
    "\n",
    "## Business Problem\n",
    "\n",
    "### Objective: \n",
    "Given a sentence as input, the objective here is to classify each word in the given sentence into pre defined classes of entities. \n",
    "\n",
    "### Data:\n",
    "GMB dataset corpus is tagged, annotated and built specifically to train the model which can predict named entities such as name, location, etc.\n",
    "Source-https://www.kaggle.com/abhinavwalia95/entity-annotated-corpus?select=ner_dataset.csv\n",
    "\n",
    "Essential info about entities:\n",
    "\n",
    "-geo = Geographical Entity\n",
    "\n",
    "-org = Organization\n",
    "\n",
    "-per = Person\n",
    "\n",
    "-gpe = Geopolitical Entity\n",
    "\n",
    "-tim = Time indicator\n",
    "\n",
    "-art = Artifact\n",
    "\n",
    "-eve = Event\n",
    "\n",
    "-nat = Natural Phenomenon\n",
    "\n",
    "Above class of entities are labeled using the BIO scheme, where each entity label is prefixed with either B or I letter. B- denotes the beginning and I- inside of an entity. The words which are not of interest are labeled with 0.\n",
    "\n",
    "### Challenge metric:\n",
    "Accuracy is used as metric to train the model "
   ]
  },
  {
   "cell_type": "code",
   "execution_count": 19,
   "metadata": {
    "colab": {
     "base_uri": "https://localhost:8080/",
     "height": 35
    },
    "colab_type": "code",
    "id": "Cb3oSi3QKEEc",
    "outputId": "88e22554-41de-448e-e6f5-6ce8c53e1896"
   },
   "outputs": [
    {
     "name": "stdout",
     "output_type": "stream",
     "text": [
      "Drive already mounted at /content/gdrive; to attempt to forcibly remount, call drive.mount(\"/content/gdrive\", force_remount=True).\n"
     ]
    }
   ],
   "source": [
    "from google.colab import drive\n",
    "\n",
    "drive.mount('/content/gdrive')\n"
   ]
  },
  {
   "cell_type": "code",
   "execution_count": 20,
   "metadata": {
    "colab": {
     "base_uri": "https://localhost:8080/",
     "height": 383
    },
    "colab_type": "code",
    "id": "zjAmFZ58Gwn6",
    "outputId": "3684c992-34b4-4f4f-d1d9-a83d13df8233"
   },
   "outputs": [
    {
     "name": "stdout",
     "output_type": "stream",
     "text": [
      "Requirement already satisfied: transformers in /usr/local/lib/python3.6/dist-packages (3.0.2)\n",
      "Requirement already satisfied: numpy in /usr/local/lib/python3.6/dist-packages (from transformers) (1.18.5)\n",
      "Requirement already satisfied: tokenizers==0.8.1.rc1 in /usr/local/lib/python3.6/dist-packages (from transformers) (0.8.1rc1)\n",
      "Requirement already satisfied: dataclasses; python_version < \"3.7\" in /usr/local/lib/python3.6/dist-packages (from transformers) (0.7)\n",
      "Requirement already satisfied: regex!=2019.12.17 in /usr/local/lib/python3.6/dist-packages (from transformers) (2019.12.20)\n",
      "Requirement already satisfied: sentencepiece!=0.1.92 in /usr/local/lib/python3.6/dist-packages (from transformers) (0.1.91)\n",
      "Requirement already satisfied: sacremoses in /usr/local/lib/python3.6/dist-packages (from transformers) (0.0.43)\n",
      "Requirement already satisfied: packaging in /usr/local/lib/python3.6/dist-packages (from transformers) (20.4)\n",
      "Requirement already satisfied: requests in /usr/local/lib/python3.6/dist-packages (from transformers) (2.23.0)\n",
      "Requirement already satisfied: tqdm>=4.27 in /usr/local/lib/python3.6/dist-packages (from transformers) (4.41.1)\n",
      "Requirement already satisfied: filelock in /usr/local/lib/python3.6/dist-packages (from transformers) (3.0.12)\n",
      "Requirement already satisfied: six in /usr/local/lib/python3.6/dist-packages (from sacremoses->transformers) (1.15.0)\n",
      "Requirement already satisfied: click in /usr/local/lib/python3.6/dist-packages (from sacremoses->transformers) (7.1.2)\n",
      "Requirement already satisfied: joblib in /usr/local/lib/python3.6/dist-packages (from sacremoses->transformers) (0.16.0)\n",
      "Requirement already satisfied: pyparsing>=2.0.2 in /usr/local/lib/python3.6/dist-packages (from packaging->transformers) (2.4.7)\n",
      "Requirement already satisfied: chardet<4,>=3.0.2 in /usr/local/lib/python3.6/dist-packages (from requests->transformers) (3.0.4)\n",
      "Requirement already satisfied: certifi>=2017.4.17 in /usr/local/lib/python3.6/dist-packages (from requests->transformers) (2020.6.20)\n",
      "Requirement already satisfied: urllib3!=1.25.0,!=1.25.1,<1.26,>=1.21.1 in /usr/local/lib/python3.6/dist-packages (from requests->transformers) (1.24.3)\n",
      "Requirement already satisfied: idna<3,>=2.5 in /usr/local/lib/python3.6/dist-packages (from requests->transformers) (2.10)\n"
     ]
    }
   ],
   "source": [
    "!pip install transformers"
   ]
  },
  {
   "cell_type": "code",
   "execution_count": 21,
   "metadata": {
    "colab": {
     "base_uri": "https://localhost:8080/",
     "height": 54
    },
    "colab_type": "code",
    "id": "UkG__L2Z2Jav",
    "outputId": "af15e4dc-60d1-46eb-a9d3-6289a61c274d"
   },
   "outputs": [
    {
     "name": "stdout",
     "output_type": "stream",
     "text": [
      "2.3.0\n"
     ]
    },
    {
     "data": {
      "application/vnd.google.colaboratory.intrinsic+json": {
       "type": "string"
      },
      "text/plain": [
       "'3.0.2'"
      ]
     },
     "execution_count": 21,
     "metadata": {
      "tags": []
     },
     "output_type": "execute_result"
    }
   ],
   "source": [
    "import warnings\n",
    "warnings.filterwarnings(\"ignore\")\n",
    "import pandas as pd\n",
    "import csv\n",
    "\n",
    "import matplotlib.pyplot as plt\n",
    "%matplotlib inline\n",
    "\n",
    "from prettytable import PrettyTable\n",
    "\n",
    "import os\n",
    "import re\n",
    "import json\n",
    "import string\n",
    "import numpy as np\n",
    "import pandas as pd\n",
    "import tensorflow as tf\n",
    "import transformers\n",
    "from tensorflow import keras\n",
    "from tensorflow.keras import layers\n",
    "from sklearn import preprocessing\n",
    "from tokenizers import BertWordPieceTokenizer\n",
    "from transformers import BertTokenizer, TFBertModel, BertConfig\n",
    "import datetime\n",
    "\n",
    "from tensorboardcolab import TensorBoardColab, TensorBoardColabCallback\n",
    "\n",
    "\n",
    "%tensorflow_version 2.x\n",
    "import tensorflow as tf\n",
    "import os\n",
    "print(tf.__version__)\n",
    "\n",
    "transformers.__version__"
   ]
  },
  {
   "cell_type": "markdown",
   "metadata": {
    "colab_type": "text",
    "id": "L8wthcNo2Ja4"
   },
   "source": [
    "# 2. Data Pre-processing"
   ]
  },
  {
   "cell_type": "code",
   "execution_count": 22,
   "metadata": {
    "colab": {},
    "colab_type": "code",
    "id": "e7r13MB-2Ja5"
   },
   "outputs": [],
   "source": [
    "#Read data path\n",
    "data = \"./gdrive/My Drive/ner_dataset.csv\"\n",
    "max_len = 384\n",
    "configuration = BertConfig()"
   ]
  },
  {
   "cell_type": "code",
   "execution_count": 23,
   "metadata": {
    "colab": {},
    "colab_type": "code",
    "id": "iA0VQ8WH2JbE"
   },
   "outputs": [],
   "source": [
    "#Reference - https://keras.io/examples/nlp/text_extraction_with_bert/\n",
    "\n",
    "# Get the sentences\n",
    "def process_csv(data_path):\n",
    "    df = pd.read_csv(data_path, encoding=\"latin-1\")\n",
    "    df.loc[:, \"Sentence #\"] = df[\"Sentence #\"].fillna(method=\"ffill\")\n",
    "    enc_tag = preprocessing.LabelEncoder()\n",
    "    df.loc[:, \"Tag\"] = enc_tag.fit_transform(df[\"Tag\"])\n",
    "    sentences = df.groupby(\"Sentence #\")[\"Word\"].apply(list).values\n",
    "    tag = df.groupby(\"Sentence #\")[\"Tag\"].apply(list).values\n",
    "    return sentences, tag, enc_tag\n",
    "\n",
    "# Prepare the inputs for feeding into model\n",
    "def create_inputs_targets(data):\n",
    "    dataset_dict = {\n",
    "        \"input_ids\": [],\n",
    "        \"token_type_ids\": [],\n",
    "        \"attention_mask\": [],\n",
    "        \"tags\": []\n",
    "    }\n",
    "    sentences, tags, tag_encoder = process_csv(data)\n",
    "    \n",
    "    for sentence, tag in zip(sentences, tags):\n",
    "        input_ids = []\n",
    "        target_tags = []\n",
    "        for idx, word in enumerate(sentence):\n",
    "            ids = tokenizer.encode(word, add_special_tokens=False)\n",
    "            input_ids.extend(ids.ids)\n",
    "            num_tokens = len(ids)\n",
    "            target_tags.extend([tag[idx]] * num_tokens)\n",
    "                    \n",
    "        \n",
    "        # Pad truncate\n",
    "        input_ids = input_ids[:max_len - 2]\n",
    "        target_tags = target_tags[:max_len - 2]\n",
    "\n",
    "        # Add [CLS] and [SEP]\n",
    "        input_ids = [101] + input_ids + [102]\n",
    "        target_tags = [16] + target_tags + [16]\n",
    "        # token_type_ids does not matter as the task has only one sentence\n",
    "        token_type_ids = [0] * len(input_ids)\n",
    "        # Adding attention mask for non-padded input\n",
    "        attention_mask = [1] * len(input_ids)\n",
    "        \n",
    "        # Making all the input enbedding same lenting by padding\n",
    "        padding_len = max_len - len(input_ids)\n",
    "        input_ids = input_ids + ([0] * padding_len)\n",
    "        attention_mask = attention_mask + ([0] * padding_len)\n",
    "        token_type_ids = token_type_ids + ([0] * padding_len)\n",
    "        target_tags = target_tags + ([17] * padding_len)\n",
    "        \n",
    "        dataset_dict[\"input_ids\"].append(input_ids)\n",
    "        dataset_dict[\"token_type_ids\"].append(token_type_ids)\n",
    "        dataset_dict[\"attention_mask\"].append(attention_mask)\n",
    "        dataset_dict[\"tags\"].append(target_tags)\n",
    "        assert len(target_tags) == max_len, f'{len(input_ids)}, {len(target_tags)}'\n",
    "                \n",
    "    for key in dataset_dict:\n",
    "        dataset_dict[key] = np.array(dataset_dict[key])\n",
    "\n",
    "    # Creating array of input embeddings\n",
    "    x = [\n",
    "        dataset_dict[\"input_ids\"],\n",
    "        dataset_dict[\"token_type_ids\"],\n",
    "        dataset_dict[\"attention_mask\"],\n",
    "    ]\n",
    "    y = dataset_dict[\"tags\"]\n",
    "    return x, y, tag_encoder\n"
   ]
  },
  {
   "cell_type": "markdown",
   "metadata": {
    "colab_type": "text",
    "id": "0m9fKoIGHS10"
   },
   "source": [
    "## 3. Tokenization"
   ]
  },
  {
   "cell_type": "code",
   "execution_count": 24,
   "metadata": {
    "colab": {},
    "colab_type": "code",
    "id": "jiMa8rsR2Jbq"
   },
   "outputs": [],
   "source": [
    "#Reference - https://keras.io/examples/nlp/text_extraction_with_bert/\n",
    "# Save the slow pretrained tokenizer\n",
    "slow_tokenizer = BertTokenizer.from_pretrained(\"bert-base-uncased\")\n",
    "save_path = \"bert_base_uncased/\"\n",
    "if not os.path.exists(save_path):\n",
    "    os.makedirs(save_path)\n",
    "slow_tokenizer.save_pretrained(save_path)\n",
    "\n",
    "# Load the fast tokenizer from saved file\n",
    "tokenizer = BertWordPieceTokenizer(\"bert_base_uncased/vocab.txt\", lowercase=True)"
   ]
  },
  {
   "cell_type": "markdown",
   "metadata": {
    "colab_type": "text",
    "id": "h_hy1QMgDFZq"
   },
   "source": [
    "## 4. Load Model and Finetune"
   ]
  },
  {
   "cell_type": "markdown",
   "metadata": {
    "colab_type": "text",
    "id": "ZdtQLILlcGav"
   },
   "source": [
    "![image.png](data:image/png;base64,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)"
   ]
  },
  {
   "cell_type": "markdown",
   "metadata": {
    "colab_type": "text",
    "id": "saWuUlwKcy6Y"
   },
   "source": [
    "Above image illustrates fine tuning of BERT for NER task.\n",
    "Source: https://arxiv.org/pdf/1810.04805.pdf"
   ]
  },
  {
   "cell_type": "code",
   "execution_count": 33,
   "metadata": {
    "colab": {},
    "colab_type": "code",
    "id": "5ggVdzCnYTaK"
   },
   "outputs": [],
   "source": [
    "loss_object = tf.keras.losses.SparseCategoricalCrossentropy(\n",
    "    from_logits=False, reduction=tf.keras.losses.Reduction.SUM\n",
    ")\n",
    "\n",
    "# Ignoring loss that is calculated due to padded targets\n",
    "def masked_ce_loss(real, pred):\n",
    "    mask = tf.math.logical_not(tf.math.equal(real, 17))\n",
    "    loss_ = loss_object(real, pred)\n",
    "\n",
    "    mask = tf.cast(mask, dtype=loss_.dtype)\n",
    "    loss_ *= mask\n",
    "\n",
    "    return tf.reduce_mean(loss_)\n",
    "\n",
    "def create_model(num_tags):\n",
    "    # BERT Base model\n",
    "    encoder = TFBertModel.from_pretrained(\"bert-base-uncased\")\n",
    "\n",
    "    # NER Model\n",
    "\n",
    "    # Instantiate Keras tensors\n",
    "    input_ids = layers.Input(shape=(max_len,), dtype=tf.int32)\n",
    "    token_type_ids = layers.Input(shape=(max_len,), dtype=tf.int32)\n",
    "    attention_mask = layers.Input(shape=(max_len,), dtype=tf.int32)\n",
    "    # TFBertmodel\n",
    "    embedding = encoder(input_ids, token_type_ids=token_type_ids, attention_mask=attention_mask)[0]\n",
    "    # Add drop out layer\n",
    "    embedding = layers.Dropout(0.5)(embedding)\n",
    "    # Add softmax layer for classifying\n",
    "    tag_logits = layers.Dense(num_tags+1, activation='softmax')(embedding)\n",
    "    \n",
    "    model = keras.Model(\n",
    "        inputs=[input_ids, token_type_ids, attention_mask],\n",
    "        outputs=[tag_logits],\n",
    "    )\n",
    "    optimizer = keras.optimizers.Adam(lr=3e-5)\n",
    "    model.compile(optimizer=optimizer, loss=masked_ce_loss, metrics=['accuracy'])\n",
    "    return model\n"
   ]
  },
  {
   "cell_type": "code",
   "execution_count": 34,
   "metadata": {
    "colab": {
     "base_uri": "https://localhost:8080/",
     "height": 1000
    },
    "colab_type": "code",
    "id": "HUAFGKT6hGz0",
    "outputId": "d6ff972b-5a00-4c99-b69b-7e169276f016"
   },
   "outputs": [
    {
     "name": "stdout",
     "output_type": "stream",
     "text": [
      "WARNING:tensorflow:TPU system grpc://10.73.77.90:8470 has already been initialized. Reinitializing the TPU can cause previously created variables on TPU to be lost.\n"
     ]
    },
    {
     "name": "stderr",
     "output_type": "stream",
     "text": [
      "WARNING:tensorflow:TPU system grpc://10.73.77.90:8470 has already been initialized. Reinitializing the TPU can cause previously created variables on TPU to be lost.\n"
     ]
    },
    {
     "name": "stdout",
     "output_type": "stream",
     "text": [
      "INFO:tensorflow:Initializing the TPU system: grpc://10.73.77.90:8470\n"
     ]
    },
    {
     "name": "stderr",
     "output_type": "stream",
     "text": [
      "INFO:tensorflow:Initializing the TPU system: grpc://10.73.77.90:8470\n"
     ]
    },
    {
     "name": "stdout",
     "output_type": "stream",
     "text": [
      "INFO:tensorflow:Clearing out eager caches\n"
     ]
    },
    {
     "name": "stderr",
     "output_type": "stream",
     "text": [
      "INFO:tensorflow:Clearing out eager caches\n"
     ]
    },
    {
     "name": "stdout",
     "output_type": "stream",
     "text": [
      "INFO:tensorflow:Finished initializing TPU system.\n"
     ]
    },
    {
     "name": "stderr",
     "output_type": "stream",
     "text": [
      "INFO:tensorflow:Finished initializing TPU system.\n",
      "WARNING:absl:`tf.distribute.experimental.TPUStrategy` is deprecated, please use  the non experimental symbol `tf.distribute.TPUStrategy` instead.\n"
     ]
    },
    {
     "name": "stdout",
     "output_type": "stream",
     "text": [
      "INFO:tensorflow:Found TPU system:\n"
     ]
    },
    {
     "name": "stderr",
     "output_type": "stream",
     "text": [
      "INFO:tensorflow:Found TPU system:\n"
     ]
    },
    {
     "name": "stdout",
     "output_type": "stream",
     "text": [
      "INFO:tensorflow:*** Num TPU Cores: 8\n"
     ]
    },
    {
     "name": "stderr",
     "output_type": "stream",
     "text": [
      "INFO:tensorflow:*** Num TPU Cores: 8\n"
     ]
    },
    {
     "name": "stdout",
     "output_type": "stream",
     "text": [
      "INFO:tensorflow:*** Num TPU Workers: 1\n"
     ]
    },
    {
     "name": "stderr",
     "output_type": "stream",
     "text": [
      "INFO:tensorflow:*** Num TPU Workers: 1\n"
     ]
    },
    {
     "name": "stdout",
     "output_type": "stream",
     "text": [
      "INFO:tensorflow:*** Num TPU Cores Per Worker: 8\n"
     ]
    },
    {
     "name": "stderr",
     "output_type": "stream",
     "text": [
      "INFO:tensorflow:*** Num TPU Cores Per Worker: 8\n"
     ]
    },
    {
     "name": "stdout",
     "output_type": "stream",
     "text": [
      "INFO:tensorflow:*** Available Device: _DeviceAttributes(/job:localhost/replica:0/task:0/device:CPU:0, CPU, 0, 0)\n"
     ]
    },
    {
     "name": "stderr",
     "output_type": "stream",
     "text": [
      "INFO:tensorflow:*** Available Device: _DeviceAttributes(/job:localhost/replica:0/task:0/device:CPU:0, CPU, 0, 0)\n"
     ]
    },
    {
     "name": "stdout",
     "output_type": "stream",
     "text": [
      "INFO:tensorflow:*** Available Device: _DeviceAttributes(/job:localhost/replica:0/task:0/device:XLA_CPU:0, XLA_CPU, 0, 0)\n"
     ]
    },
    {
     "name": "stderr",
     "output_type": "stream",
     "text": [
      "INFO:tensorflow:*** Available Device: _DeviceAttributes(/job:localhost/replica:0/task:0/device:XLA_CPU:0, XLA_CPU, 0, 0)\n"
     ]
    },
    {
     "name": "stdout",
     "output_type": "stream",
     "text": [
      "INFO:tensorflow:*** Available Device: _DeviceAttributes(/job:worker/replica:0/task:0/device:CPU:0, CPU, 0, 0)\n"
     ]
    },
    {
     "name": "stderr",
     "output_type": "stream",
     "text": [
      "INFO:tensorflow:*** Available Device: _DeviceAttributes(/job:worker/replica:0/task:0/device:CPU:0, CPU, 0, 0)\n"
     ]
    },
    {
     "name": "stdout",
     "output_type": "stream",
     "text": [
      "INFO:tensorflow:*** Available Device: _DeviceAttributes(/job:worker/replica:0/task:0/device:TPU:0, TPU, 0, 0)\n"
     ]
    },
    {
     "name": "stderr",
     "output_type": "stream",
     "text": [
      "INFO:tensorflow:*** Available Device: _DeviceAttributes(/job:worker/replica:0/task:0/device:TPU:0, TPU, 0, 0)\n"
     ]
    },
    {
     "name": "stdout",
     "output_type": "stream",
     "text": [
      "INFO:tensorflow:*** Available Device: _DeviceAttributes(/job:worker/replica:0/task:0/device:TPU:1, TPU, 0, 0)\n"
     ]
    },
    {
     "name": "stderr",
     "output_type": "stream",
     "text": [
      "INFO:tensorflow:*** Available Device: _DeviceAttributes(/job:worker/replica:0/task:0/device:TPU:1, TPU, 0, 0)\n"
     ]
    },
    {
     "name": "stdout",
     "output_type": "stream",
     "text": [
      "INFO:tensorflow:*** Available Device: _DeviceAttributes(/job:worker/replica:0/task:0/device:TPU:2, TPU, 0, 0)\n"
     ]
    },
    {
     "name": "stderr",
     "output_type": "stream",
     "text": [
      "INFO:tensorflow:*** Available Device: _DeviceAttributes(/job:worker/replica:0/task:0/device:TPU:2, TPU, 0, 0)\n"
     ]
    },
    {
     "name": "stdout",
     "output_type": "stream",
     "text": [
      "INFO:tensorflow:*** Available Device: _DeviceAttributes(/job:worker/replica:0/task:0/device:TPU:3, TPU, 0, 0)\n"
     ]
    },
    {
     "name": "stderr",
     "output_type": "stream",
     "text": [
      "INFO:tensorflow:*** Available Device: _DeviceAttributes(/job:worker/replica:0/task:0/device:TPU:3, TPU, 0, 0)\n"
     ]
    },
    {
     "name": "stdout",
     "output_type": "stream",
     "text": [
      "INFO:tensorflow:*** Available Device: _DeviceAttributes(/job:worker/replica:0/task:0/device:TPU:4, TPU, 0, 0)\n"
     ]
    },
    {
     "name": "stderr",
     "output_type": "stream",
     "text": [
      "INFO:tensorflow:*** Available Device: _DeviceAttributes(/job:worker/replica:0/task:0/device:TPU:4, TPU, 0, 0)\n"
     ]
    },
    {
     "name": "stdout",
     "output_type": "stream",
     "text": [
      "INFO:tensorflow:*** Available Device: _DeviceAttributes(/job:worker/replica:0/task:0/device:TPU:5, TPU, 0, 0)\n"
     ]
    },
    {
     "name": "stderr",
     "output_type": "stream",
     "text": [
      "INFO:tensorflow:*** Available Device: _DeviceAttributes(/job:worker/replica:0/task:0/device:TPU:5, TPU, 0, 0)\n"
     ]
    },
    {
     "name": "stdout",
     "output_type": "stream",
     "text": [
      "INFO:tensorflow:*** Available Device: _DeviceAttributes(/job:worker/replica:0/task:0/device:TPU:6, TPU, 0, 0)\n"
     ]
    },
    {
     "name": "stderr",
     "output_type": "stream",
     "text": [
      "INFO:tensorflow:*** Available Device: _DeviceAttributes(/job:worker/replica:0/task:0/device:TPU:6, TPU, 0, 0)\n"
     ]
    },
    {
     "name": "stdout",
     "output_type": "stream",
     "text": [
      "INFO:tensorflow:*** Available Device: _DeviceAttributes(/job:worker/replica:0/task:0/device:TPU:7, TPU, 0, 0)\n"
     ]
    },
    {
     "name": "stderr",
     "output_type": "stream",
     "text": [
      "INFO:tensorflow:*** Available Device: _DeviceAttributes(/job:worker/replica:0/task:0/device:TPU:7, TPU, 0, 0)\n"
     ]
    },
    {
     "name": "stdout",
     "output_type": "stream",
     "text": [
      "INFO:tensorflow:*** Available Device: _DeviceAttributes(/job:worker/replica:0/task:0/device:TPU_SYSTEM:0, TPU_SYSTEM, 0, 0)\n"
     ]
    },
    {
     "name": "stderr",
     "output_type": "stream",
     "text": [
      "INFO:tensorflow:*** Available Device: _DeviceAttributes(/job:worker/replica:0/task:0/device:TPU_SYSTEM:0, TPU_SYSTEM, 0, 0)\n"
     ]
    },
    {
     "name": "stdout",
     "output_type": "stream",
     "text": [
      "INFO:tensorflow:*** Available Device: _DeviceAttributes(/job:worker/replica:0/task:0/device:XLA_CPU:0, XLA_CPU, 0, 0)\n"
     ]
    },
    {
     "name": "stderr",
     "output_type": "stream",
     "text": [
      "INFO:tensorflow:*** Available Device: _DeviceAttributes(/job:worker/replica:0/task:0/device:XLA_CPU:0, XLA_CPU, 0, 0)\n",
      "WARNING:transformers.modeling_tf_utils:Some weights of the model checkpoint at bert-base-uncased were not used when initializing TFBertModel: ['mlm___cls', 'nsp___cls']\n",
      "- This IS expected if you are initializing TFBertModel from the checkpoint of a model trained on another task or with another architecture (e.g. initializing a BertForSequenceClassification model from a BertForPretraining model).\n",
      "- This IS NOT expected if you are initializing TFBertModel from the checkpoint of a model that you expect to be exactly identical (initializing a BertForSequenceClassification model from a BertForSequenceClassification model).\n",
      "WARNING:transformers.modeling_tf_utils:All the weights of TFBertModel were initialized from the model checkpoint at bert-base-uncased.\n",
      "If your task is similar to the task the model of the ckeckpoint was trained on, you can already use TFBertModel for predictions without further training.\n"
     ]
    },
    {
     "name": "stdout",
     "output_type": "stream",
     "text": [
      "Model: \"functional_7\"\n",
      "__________________________________________________________________________________________________\n",
      "Layer (type)                    Output Shape         Param #     Connected to                     \n",
      "==================================================================================================\n",
      "input_10 (InputLayer)           [(None, 384)]        0                                            \n",
      "__________________________________________________________________________________________________\n",
      "input_12 (InputLayer)           [(None, 384)]        0                                            \n",
      "__________________________________________________________________________________________________\n",
      "input_11 (InputLayer)           [(None, 384)]        0                                            \n",
      "__________________________________________________________________________________________________\n",
      "tf_bert_model_4 (TFBertModel)   ((None, 384, 768), ( 109482240   input_10[0][0]                   \n",
      "                                                                 input_12[0][0]                   \n",
      "                                                                 input_11[0][0]                   \n",
      "__________________________________________________________________________________________________\n",
      "dropout_188 (Dropout)           (None, 384, 768)     0           tf_bert_model_4[0][0]            \n",
      "__________________________________________________________________________________________________\n",
      "dense_3 (Dense)                 (None, 384, 18)      13842       dropout_188[0][0]                \n",
      "==================================================================================================\n",
      "Total params: 109,496,082\n",
      "Trainable params: 109,496,082\n",
      "Non-trainable params: 0\n",
      "__________________________________________________________________________________________________\n"
     ]
    }
   ],
   "source": [
    "#Reference - https://keras.io/examples/nlp/text_extraction_with_bert/\n",
    "\n",
    "num_tags = pd.read_csv(data, encoding=\"latin-1\")[\"Tag\"].nunique()\n",
    "\n",
    "use_tpu = None\n",
    "try:\n",
    "    tpu = tf.distribute.cluster_resolver.TPUClusterResolver()\n",
    "    use_tpu = True\n",
    "except:\n",
    "    use_tpu = False\n",
    "\n",
    "if use_tpu:\n",
    "    # Create distribution strategy\n",
    "    tf.config.experimental_connect_to_cluster(tpu)\n",
    "    tf.tpu.experimental.initialize_tpu_system(tpu)\n",
    "    strategy = tf.distribute.experimental.TPUStrategy(tpu)\n",
    "\n",
    "    # Create model\n",
    "    with strategy.scope():\n",
    "        model = create_model(num_tags)\n",
    "else:\n",
    "    model = create_model(num_tags)\n",
    "    \n",
    "model.summary()"
   ]
  },
  {
   "cell_type": "markdown",
   "metadata": {
    "colab_type": "text",
    "id": "hl7OxzTsDIyC"
   },
   "source": [
    "# 5. Train Model"
   ]
  },
  {
   "cell_type": "code",
   "execution_count": 35,
   "metadata": {
    "colab": {
     "base_uri": "https://localhost:8080/",
     "height": 292
    },
    "colab_type": "code",
    "id": "nHjsG8dzkRfh",
    "outputId": "1fcb5bbb-0c6a-4a71-8687-944ef9ca9fdf"
   },
   "outputs": [
    {
     "name": "stdout",
     "output_type": "stream",
     "text": [
      "WARNING:tensorflow:Gradients do not exist for variables ['tf_bert_model_4/bert/pooler/dense/kernel:0', 'tf_bert_model_4/bert/pooler/dense/bias:0'] when minimizing the loss.\n"
     ]
    },
    {
     "name": "stderr",
     "output_type": "stream",
     "text": [
      "WARNING:tensorflow:Gradients do not exist for variables ['tf_bert_model_4/bert/pooler/dense/kernel:0', 'tf_bert_model_4/bert/pooler/dense/bias:0'] when minimizing the loss.\n"
     ]
    },
    {
     "name": "stdout",
     "output_type": "stream",
     "text": [
      "WARNING:tensorflow:Gradients do not exist for variables ['tf_bert_model_4/bert/pooler/dense/kernel:0', 'tf_bert_model_4/bert/pooler/dense/bias:0'] when minimizing the loss.\n"
     ]
    },
    {
     "name": "stderr",
     "output_type": "stream",
     "text": [
      "WARNING:tensorflow:Gradients do not exist for variables ['tf_bert_model_4/bert/pooler/dense/kernel:0', 'tf_bert_model_4/bert/pooler/dense/bias:0'] when minimizing the loss.\n"
     ]
    },
    {
     "name": "stdout",
     "output_type": "stream",
     "text": [
      "WARNING:tensorflow:Gradients do not exist for variables ['tf_bert_model_4/bert/pooler/dense/kernel:0', 'tf_bert_model_4/bert/pooler/dense/bias:0'] when minimizing the loss.\n"
     ]
    },
    {
     "name": "stderr",
     "output_type": "stream",
     "text": [
      "WARNING:tensorflow:Gradients do not exist for variables ['tf_bert_model_4/bert/pooler/dense/kernel:0', 'tf_bert_model_4/bert/pooler/dense/bias:0'] when minimizing the loss.\n"
     ]
    },
    {
     "name": "stdout",
     "output_type": "stream",
     "text": [
      "WARNING:tensorflow:Gradients do not exist for variables ['tf_bert_model_4/bert/pooler/dense/kernel:0', 'tf_bert_model_4/bert/pooler/dense/bias:0'] when minimizing the loss.\n"
     ]
    },
    {
     "name": "stderr",
     "output_type": "stream",
     "text": [
      "WARNING:tensorflow:Gradients do not exist for variables ['tf_bert_model_4/bert/pooler/dense/kernel:0', 'tf_bert_model_4/bert/pooler/dense/bias:0'] when minimizing the loss.\n"
     ]
    },
    {
     "name": "stdout",
     "output_type": "stream",
     "text": [
      "  2/675 [..............................] - ETA: 3:55:43 - loss: 437.3640 - accuracy: 0.4384WARNING:tensorflow:Callbacks method `on_train_batch_end` is slow compared to the batch time (batch time: 0.0110s vs `on_train_batch_end` time: 0.2124s). Check your callbacks.\n"
     ]
    },
    {
     "name": "stderr",
     "output_type": "stream",
     "text": [
      "WARNING:tensorflow:Callbacks method `on_train_batch_end` is slow compared to the batch time (batch time: 0.0110s vs `on_train_batch_end` time: 0.2124s). Check your callbacks.\n"
     ]
    },
    {
     "name": "stdout",
     "output_type": "stream",
     "text": [
      "675/675 [==============================] - ETA: 0s - loss: nan - accuracy: 0.9922   WARNING:tensorflow:Callbacks method `on_test_batch_end` is slow compared to the batch time (batch time: 0.0041s vs `on_test_batch_end` time: 0.0633s). Check your callbacks.\n"
     ]
    },
    {
     "name": "stderr",
     "output_type": "stream",
     "text": [
      "WARNING:tensorflow:Callbacks method `on_test_batch_end` is slow compared to the batch time (batch time: 0.0041s vs `on_test_batch_end` time: 0.0633s). Check your callbacks.\n"
     ]
    },
    {
     "name": "stdout",
     "output_type": "stream",
     "text": [
      "\b\b\b\b\b\b\b\b\b\b\b\b\b\b\b\b\b\b\b\b\b\b\b\b\b\b\b\b\b\b\b\b\b\b\b\b\b\b\b\b\b\b\b\b\b\b\b\b\b\b\b\b\b\b\b\b\b\b\b\b\b\b\b\b\b\b\b\b\b\b\b\b\b\b\b\b\b\b\b\b\b\r",
      "675/675 [==============================] - 243s 360ms/step - loss: nan - accuracy: 0.9922 - val_loss: 2.2910 - val_accuracy: 0.9970\n"
     ]
    },
    {
     "data": {
      "text/plain": [
       "<tensorflow.python.keras.callbacks.History at 0x7fc8e7aa66a0>"
      ]
     },
     "execution_count": 35,
     "metadata": {
      "tags": []
     },
     "output_type": "execute_result"
    }
   ],
   "source": [
    "x_train, y_train, tag_encoder = create_inputs_targets(data)\n",
    "\n",
    "bs = 64 if use_tpu else 16\n",
    "\n",
    "model.fit(\n",
    "    x_train,\n",
    "    y_train,\n",
    "    epochs=1,\n",
    "    verbose=1,\n",
    "    batch_size=bs,\n",
    "    validation_split=0.1\n",
    ")\n",
    "\n"
   ]
  },
  {
   "cell_type": "markdown",
   "metadata": {
    "colab_type": "text",
    "id": "H_CCj8GbDTc1"
   },
   "source": [
    "# 6. Model Inference"
   ]
  },
  {
   "cell_type": "code",
   "execution_count": 36,
   "metadata": {
    "colab": {},
    "colab_type": "code",
    "id": "-T8ImlHfDTtF"
   },
   "outputs": [],
   "source": [
    "# Prepate test inputs to feed into model\n",
    "def create_test_input_from_text(texts):\n",
    "    dataset_dict = {\n",
    "        \"input_ids\": [],\n",
    "        \"token_type_ids\": [],\n",
    "        \"attention_mask\": []\n",
    "    }\n",
    "    for sentence in texts:\n",
    "        input_ids = []\n",
    "        for idx, word in enumerate(sentence.split()):\n",
    "            ids = tokenizer.encode(word, add_special_tokens=False)\n",
    "            input_ids.extend(ids.ids)\n",
    "            num_tokens = len(ids)\n",
    "                        \n",
    "        # Pad and create attention masks.\n",
    "        # Skip if truncation is needed\n",
    "        input_ids = input_ids[:max_len - 2]\n",
    "\n",
    "        input_ids = [101] + input_ids + [102]\n",
    "        n_tokens = len(input_ids)\n",
    "        token_type_ids = [0] * len(input_ids)\n",
    "        attention_mask = [1] * len(input_ids)\n",
    "        padding_len = max_len - len(input_ids)\n",
    "\n",
    "        input_ids = input_ids + ([0] * padding_len)\n",
    "        attention_mask = attention_mask + ([0] * padding_len)\n",
    "        token_type_ids = token_type_ids + ([0] * padding_len)\n",
    "        \n",
    "        dataset_dict[\"input_ids\"].append(input_ids)\n",
    "        dataset_dict[\"token_type_ids\"].append(token_type_ids)\n",
    "        dataset_dict[\"attention_mask\"].append(attention_mask)\n",
    "        \n",
    "    for key in dataset_dict:\n",
    "        dataset_dict[key] = np.array(dataset_dict[key])\n",
    "\n",
    "    x = [\n",
    "        dataset_dict[\"input_ids\"],\n",
    "        dataset_dict[\"token_type_ids\"],\n",
    "        dataset_dict[\"attention_mask\"],\n",
    "    ]\n",
    "    return dataset_dict, x, n_tokens\n",
    "\n",
    "# test input sentence\n",
    "test_inputs = [\"India is 7th largest country by area\"]\n",
    "dataset, x_test, n_tokens = create_test_input_from_text(test_inputs)\n",
    "x_test[0][0][:n_tokens]\n",
    "pred_test = model.predict(x_test)\n",
    "# ignore predictions of padding tokens\n",
    "pred_tags = np.argmax(pred_test,2)[0][:n_tokens]  \n",
    "\n",
    "# create dictionary of tag and its index\n",
    "le_dict = dict(zip(tag_encoder.transform(tag_encoder.classes_), tag_encoder.classes_))\n",
    "pred_tags = [le_dict.get(_, '[pad]') for _ in pred_tags]\n"
   ]
  },
  {
   "cell_type": "code",
   "execution_count": 37,
   "metadata": {
    "colab": {
     "base_uri": "https://localhost:8080/",
     "height": 54
    },
    "colab_type": "code",
    "id": "R74bBPZjMNf_",
    "outputId": "22b01736-993d-493c-c4cb-555946c9871f"
   },
   "outputs": [
    {
     "name": "stdout",
     "output_type": "stream",
     "text": [
      "['India is 7th largest country by area']\n",
      "['B-geo', 'O', 'O', 'O', 'O', 'O', 'O']\n"
     ]
    }
   ],
   "source": [
    "for sentence in test_inputs:\n",
    "  text = sentence.split(\" \")\n",
    "\n",
    "print(test_inputs)\n",
    "pred_tags = pred_tags[1:-1]\n",
    "print(pred_tags)\n"
   ]
  },
  {
   "cell_type": "markdown",
   "metadata": {
    "colab": {},
    "colab_type": "code",
    "id": "cfBdk51ONpFL"
   },
   "source": [
    "# 7. Conclusion"
   ]
  },
  {
   "cell_type": "markdown",
   "metadata": {},
   "source": [
    "1. BERT model is used for NER task. \n",
    "2. bert-base-uncased model is downloaded and fine tuned for NER task.\n",
    "3. Sparece Categorical crossentropy is used for calculating loss as this is a classification task. And, accuracy is used as metric.\n",
    "4. Model is trained.The validation accuracy of model after evaluation is 99.7%. This is comparitively high than 99.2% accuracy of base model(Bi LSTM CRF model).\n",
    "5. Model is tested on un-known data"
   ]
  },
  {
   "cell_type": "code",
   "execution_count": null,
   "metadata": {},
   "outputs": [],
   "source": []
  }
 ],
 "metadata": {
  "accelerator": "TPU",
  "colab": {
   "collapsed_sections": [],
   "name": "NER_on_GMB_Corpus-BERT (TF Keras).ipynb",
   "provenance": []
  },
  "kernelspec": {
   "display_name": "Python 3",
   "language": "python",
   "name": "python3"
  },
  "language_info": {
   "codemirror_mode": {
    "name": "ipython",
    "version": 3
   },
   "file_extension": ".py",
   "mimetype": "text/x-python",
   "name": "python",
   "nbconvert_exporter": "python",
   "pygments_lexer": "ipython3",
   "version": "3.7.6"
  }
 },
 "nbformat": 4,
 "nbformat_minor": 1
}
